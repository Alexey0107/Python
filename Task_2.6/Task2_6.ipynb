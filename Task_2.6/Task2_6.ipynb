{
  "cells": [
    {
      "cell_type": "markdown",
      "metadata": {
        "id": "65rym4wyexZA"
      },
      "source": [
        "# 📌 Урок: Параллельные вычисления в Python\n",
        "## 📖 Теоретический минимум\n",
        "🔹 Что такое параллельные вычисления?\n",
        "\n",
        "Параллельные вычисления — это выполнение нескольких задач одновременно для ускорения обработки данных. В Python это реализуется с помощью потоков (threads) и процессов (processes).\n",
        "\n",
        "🔹 Потоки (Threads)\n",
        "\n",
        "Что это: Потоки — это легковесные \"потоки выполнения\" внутри одного процесса. Они разделяют общую память.\n",
        "\n",
        "Когда использовать: Для I/O-bound задач (например, работа с файлами, сетевые запросы).\n",
        "\n",
        "Библиотека: threading.\n",
        "\n",
        "🔹 Процессы (Processes)\n",
        "\n",
        "Что это: Процессы — это независимые экземпляры программы с отдельной памятью.\n",
        "\n",
        "Когда использовать: Для CPU-bound задач (например, вычисления, обработка данных).\n",
        "\n",
        "Библиотека: multiprocessing.\n",
        "\n",
        "🔹 Ключевые различия\n",
        "\n",
        "| Характеристика  | Потоки (Threads) | Процессы (Processes) |\n",
        "|---------|---------|--------|\n",
        "|Память|Общая|Изолированная|\n",
        "|Ресурсы|Ограничивает параллелизм|Больше|\n",
        "|GIL (Global Interpreter Lock)|Общая|Не ограничен|\n",
        "|Использование|I/O-bound задачи|CPU-bound задачи|\n",
        "\n",
        "\n",
        "\n",
        "\n",
        "---\n",
        "\n",
        "## 📖 Материалы\n",
        "\n",
        "https://vk.com/video-3329589_456239267\n",
        "\n",
        "Cracking the Coding Interview: 150 Programming Interview Questions and Answers\n",
        "\n",
        "Грокаем алгоритмы. Иллюстрированное пособие для программистов и любопытствующих от Бхаргава А.\n",
        "\n",
        "\n",
        "\n",
        "---\n"
      ]
    },
    {
      "cell_type": "markdown",
      "metadata": {
        "id": "vBGTQmKE3Qvu"
      },
      "source": [
        "\n",
        "# 🏆 Задания\n",
        "\n",
        "## 1️⃣ Задача на потоки: Параллельное выполнение задач\n",
        "\n",
        "**Входные данные:**\n",
        "\n",
        "Две задачи (функции), которые нужно выполнить параллельно:\n",
        "\n",
        "task1 выводит числа от 1 до 10.\n",
        "\n",
        "task2 выводит буквы от первой до десятой (A, B, C, ..., J).\n",
        "\n",
        "**Ожидаемый результат:**\n",
        "\n",
        "Параллельный вывод чисел и букв. Например:\n",
        "\n",
        "```\n",
        "1\n",
        "A\n",
        "2\n",
        "B\n",
        "3\n",
        "C\n",
        "...\n",
        "10\n",
        "J\n",
        "```\n",
        "\n",
        "**Библиотеки:** threading.\n"
      ]
    },
    {
      "cell_type": "code",
      "execution_count": 42,
      "metadata": {
        "id": "iIseX_mCQFZK"
      },
      "outputs": [
        {
          "name": "stdout",
          "output_type": "stream",
          "text": [
            "0\n",
            "A\n"
          ]
        },
        {
          "name": "stdout",
          "output_type": "stream",
          "text": [
            "1\n",
            "B\n",
            "2\n",
            "C\n",
            "3\n",
            "D\n",
            "4\n",
            "E\n",
            "5\n",
            "F\n",
            "6\n",
            "I\n",
            "7\n",
            "H\n",
            "8\n",
            "J\n",
            "9\n"
          ]
        }
      ],
      "source": [
        "import threading\n",
        "import time\n",
        "\n",
        "def numbers():\n",
        "    for i in range(10):\n",
        "        print(i)\n",
        "        time.sleep(0.1)\n",
        "def letters():\n",
        "    for letter in 'ABCDEFIHJ':\n",
        "        print(letter)\n",
        "        time.sleep(0.1)\n",
        "\n",
        "thread1 = threading.Thread(target=numbers)\n",
        "thread2 = threading.Thread(target=letters)\n",
        "\n",
        "thread1.start()\n",
        "thread2.start()\n",
        "\n",
        "# thread1.join()\n",
        "# thread2.join()\n"
      ]
    },
    {
      "cell_type": "markdown",
      "metadata": {
        "id": "Z-Xjo7zMNlw3"
      },
      "source": [
        "\n",
        "## 2️⃣ Задача на процессы: Параллельное вычисление факториала\n",
        "\n",
        "**Входные данные:**\n",
        "\n",
        "Список чисел: [5, 10, 15, 20].\n",
        "\n",
        "**Ожидаемый результат:**\n",
        "\n",
        "Вычисленные факториалы для каждого числа.\n",
        "\n",
        "**Библиотеки:** multiprocessing.\n",
        "\n",
        "---\n",
        "\n"
      ]
    },
    {
      "cell_type": "code",
      "execution_count": 2,
      "metadata": {},
      "outputs": [
        {
          "name": "stdout",
          "output_type": "stream",
          "text": [
            "[]\n"
          ]
        }
      ],
      "source": [
        "import multiprocessing\n",
        "\n",
        "def factorial(number, queue):\n",
        "  f = 1\n",
        "  for i in range(2, number + 1):\n",
        "    f *= i\n",
        "  # print(f)\n",
        "  queue.put(f)\n",
        "\n",
        "def main(numbers):\n",
        "    queue = multiprocessing.Queue()\n",
        "    processes = []\n",
        "    for number in numbers:\n",
        "        process = multiprocessing.Process(target=factorial, args=(number, queue))\n",
        "        processes.append(process)\n",
        "        process.start()\n",
        "\n",
        "    for process in processes:\n",
        "        process.join()\n",
        "\n",
        "\n",
        "    factorials = []\n",
        "    while not queue.empty():\n",
        "        factorials.append(queue.get())\n",
        "\n",
        "    return factorials\n",
        "\n",
        "\n",
        "numbers = [5, 10, 15, 20]\n",
        "\n",
        "\n",
        "factorials = main(numbers)\n",
        "print(factorials)"
      ]
    },
    {
      "cell_type": "markdown",
      "metadata": {
        "id": "aaGawtbzhqKl"
      },
      "source": [
        "## 3️⃣ Задача на потоки: Параллельная обработка текста\n",
        "\n",
        "**Входные данные:**\n",
        "\n",
        "Словарь с текстами: {\"text1\": \"Пример текста\", \"text2\": \"Еще один текст\"}.\n",
        "\n",
        "**Ожидаемый результат:**\n",
        "\n",
        "Количество слов в каждом тексте.\n",
        "\n",
        "**Библиотеки:** threading.\n",
        "\n",
        "---\n",
        "\n"
      ]
    },
    {
      "cell_type": "code",
      "execution_count": 6,
      "metadata": {},
      "outputs": [
        {
          "name": "stdout",
          "output_type": "stream",
          "text": [
            "{'text1': 2, 'text2': 3}\n"
          ]
        }
      ],
      "source": [
        "import threading\n",
        "\n",
        "def words(text, result, key):\n",
        "    word_count = len(text.split())\n",
        "    result[key] = word_count\n",
        "\n",
        "def process_texts(texts):\n",
        "    threads = []\n",
        "    res = {}\n",
        "    for key, text in texts.items():\n",
        "        thread = threading.Thread(target=words, args=(text, res, key))\n",
        "        threads.append(thread)\n",
        "        thread.start()\n",
        "    for thread in threads:\n",
        "        thread.join()\n",
        "\n",
        "    return res\n",
        "texts = {\"text1\": \"Пример текста\", \"text2\": \"Еще один текст\"}\n",
        "\n",
        "\n",
        "word_counts = process_texts(texts)\n",
        "print(word_counts)"
      ]
    },
    {
      "cell_type": "markdown",
      "metadata": {
        "id": "UIWphjDSh8d0"
      },
      "source": [
        "\n",
        "## 4️⃣ Задача на процессы: Параллельное вычисление чисел Фибоначчи\n",
        "**Входные данные:**\n",
        "\n",
        "Список чисел: [10, 20, 30, 40].\n",
        "\n",
        "**Ожидаемый результат:**\n",
        "\n",
        "Вычисленные числа Фибоначчи для каждого числа.\n",
        "\n",
        "**Библиотеки:** multiprocessing.\n",
        "\n",
        "---\n",
        "\n",
        "\n"
      ]
    },
    {
      "cell_type": "code",
      "execution_count": 4,
      "metadata": {},
      "outputs": [
        {
          "name": "stdout",
          "output_type": "stream",
          "text": [
            "[]\n"
          ]
        }
      ],
      "source": [
        "import multiprocessing\n",
        "\n",
        "def fibonacci(number, queue):\n",
        "    if number <= 0:\n",
        "        return 0\n",
        "    elif number == 1:\n",
        "        return 1\n",
        "    else:\n",
        "        a, b = 0, 1\n",
        "        for _ in range(2,number + 1):\n",
        "            a, b = b, a + b\n",
        "        queue.put(b)\n",
        "\n",
        "\n",
        "def main(numbers):\n",
        "    queue = multiprocessing.Queue()\n",
        "    processes = []\n",
        "    for number in numbers:\n",
        "        process = multiprocessing.Process(target=fibonacci, args=(number, queue))\n",
        "        processes.append(process)\n",
        "        process.start()\n",
        "\n",
        "    for process in processes:\n",
        "        process.join()\n",
        "\n",
        "\n",
        "    factorials = []\n",
        "    while not queue.empty():\n",
        "        factorials.append(queue.get())\n",
        "\n",
        "    return factorials\n",
        "\n",
        "\n",
        "numbers = [5, 10, 15, 20]\n",
        "\n",
        "\n",
        "factorials = main(numbers)\n",
        "print(factorials)"
      ]
    },
    {
      "cell_type": "markdown",
      "metadata": {
        "id": "h5NaRCeji99S"
      },
      "source": [
        "\n",
        "## 5️⃣ Задача на сравнение потоков и процессов: Вычисление факториала\n",
        "**Входные данные:**\n",
        "\n",
        "Список чисел: [500, 600, 700, 800].\n",
        "\n",
        "**Ожидаемый результат:**\n",
        "\n",
        "Время выполнения задачи с использованием потоков и процессов.\n",
        "\n",
        "**Библиотеки:** threading, multiprocessing, time.\n",
        "---\n"
      ]
    },
    {
      "cell_type": "code",
      "execution_count": 2,
      "metadata": {},
      "outputs": [],
      "source": [
        "import multiprocessing\n",
        "import threading\n",
        "import time\n",
        "\n",
        "def factorial(number):\n",
        "    f = 1\n",
        "    for i in range(2, number + 1):\n",
        "        f *= i\n",
        "    return f\n",
        "\n",
        "def factorial_processes(numbers):\n",
        "    with multiprocessing.Pool() as pool:\n",
        "        results = pool.map(factorial, numbers)\n",
        "    return results\n",
        "\n",
        "def factorial_thread(number, index, results, lock):\n",
        "    f = factorial(number)\n",
        "    with lock:\n",
        "        results[index] = f\n",
        "\n",
        "def factorial_threads(numbers):\n",
        "    threads = []\n",
        "    results = [None] * len(numbers)\n",
        "    lock = threading.Lock()\n",
        "\n",
        "    for index, number in enumerate(numbers):\n",
        "        thread = threading.Thread(\n",
        "            target=factorial_thread,\n",
        "            args=(number, index, results, lock)\n",
        "        )\n",
        "        threads.append(thread)\n",
        "        thread.start()\n",
        "\n",
        "    for thread in threads:\n",
        "        thread.join()\n",
        "\n",
        "    return results\n",
        "\n",
        "numbers = [50, 60, 70, 80]\n",
        "\n",
        "start_time = time.time()\n",
        "thread_results = factorial_threads(numbers)\n",
        "thread_time = time.time() - start_time\n",
        "\n",
        "start_time = time.time()\n",
        "process_results = factorial_processes(numbers)\n",
        "process_time = time.time() - start_time\n",
        "\n",
        "# Вывод результатов\n",
        "print(f\"Результаты (потоки): {thread_results}\")\n",
        "print(f\"Время (потоки): {thread_time:.5f} секунд\")\n",
        "\n",
        "print(f\"Результаты (процессы): {process_results}\")\n",
        "print(f\"Время (процессы): {process_time:.5f} секунд\")"
      ]
    }
  ],
  "metadata": {
    "colab": {
      "provenance": []
    },
    "kernelspec": {
      "display_name": "Python 3",
      "name": "python3"
    },
    "language_info": {
      "codemirror_mode": {
        "name": "ipython",
        "version": 3
      },
      "file_extension": ".py",
      "mimetype": "text/x-python",
      "name": "python",
      "nbconvert_exporter": "python",
      "pygments_lexer": "ipython3",
      "version": "3.12.4"
    }
  },
  "nbformat": 4,
  "nbformat_minor": 0
}
