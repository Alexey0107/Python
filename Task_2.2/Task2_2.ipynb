{
  "cells": [
    {
      "cell_type": "markdown",
      "metadata": {
        "id": "65rym4wyexZA"
      },
      "source": [
        "# Теоретический минимум по теме \"Алгоритмы поиска\"\n",
        "\n",
        "## Зачем используются\n",
        "Алгоритмы поиска используются для нахождения заданного элемента в массиве, списке или другой структуре данных. Выбор алгоритма зависит от структуры данных, объема входных данных и требований к скорости выполнения.\n",
        "\n",
        "\n",
        "---\n",
        "# Материалы\n",
        "https://vk.com/video-62468751_456240449\n",
        "\n",
        "https://vkvideo.ru/video-151213012_456239017\n",
        "\n",
        "https://vk.com/video302513503_456239525\n",
        "\n",
        "Адитья Бхаргава - Грокаем алгоритмы. Иллюстрированное пособие для программистов и любопытствующих (2017, Питер)\n",
        "\n",
        "---\n",
        "\n",
        "# Задачи по теме \"Алгоритмы поиска\""
      ]
    },
    {
      "cell_type": "markdown",
      "metadata": {
        "id": "Z-Xjo7zMNlw3"
      },
      "source": [
        "## 1. Найти первый элемент\n",
        "\n",
        "**Задание:**  \n",
        "У вас есть список чисел. Ваша задача — написать функцию, которая возвращает первый элемент списка.\n",
        "\n",
        "\n",
        "**Формат вывода:**\n",
        "\n",
        "Найденный элемент\n",
        "\n",
        "Какая Big O этого алгоритма?"
      ]
    },
    {
      "cell_type": "code",
      "execution_count": 12,
      "metadata": {
        "id": "SN9ylQTQNmBg"
      },
      "outputs": [
        {
          "name": "stdout",
          "output_type": "stream",
          "text": [
            "1\n",
            "Сложность О(1), не зависит от размера списка\n"
          ]
        }
      ],
      "source": [
        "def first_el(l):\n",
        "    if not l:\n",
        "        return \"Empty list\"\n",
        "    return l[0]\n",
        "\n",
        "s = [1, 2, 4, 9, 12]\n",
        "print(first_el(s))\n",
        "\n",
        "print(\"Сложность О(1), не зависит от размера списка\")"
      ]
    },
    {
      "cell_type": "markdown",
      "metadata": {
        "id": "aaGawtbzhqKl"
      },
      "source": [
        "## 2. Линейный поиск  \n",
        "\n",
        "**Задание:**  \n",
        "Напишите простейший алгоритм, который проходит по массиву и сравнивает каждый элемент с искомым значением.  \n",
        "\n",
        "\n",
        "**Формат вывода:**\n",
        "\n",
        "Индекс найденного элемента\n",
        "\n",
        "Какая Big O этого алгоритма?"
      ]
    },
    {
      "cell_type": "code",
      "execution_count": 6,
      "metadata": {
        "colab": {
          "base_uri": "https://localhost:8080/"
        },
        "id": "ByFl_a5OhoCR",
        "outputId": "6c574be9-d23d-4b90-9636-8d334844c405"
      },
      "outputs": [
        {
          "name": "stdout",
          "output_type": "stream",
          "text": [
            "2\n",
            "Временная сложность O(n), т. к. в худшем случае перебираем все n элементов\n"
          ]
        }
      ],
      "source": [
        "def search(arr, n):\n",
        "    for i in range(len(arr)):\n",
        "        if arr[i] == n:\n",
        "            return i\n",
        "    return 'Нет совпадений'\n",
        "\n",
        "\n",
        "arr = [4, 2, 7, 1, 9]\n",
        "n = 7\n",
        "print(search(arr, n))\n",
        "\n",
        "print(\"Временная сложность O(n), т. к. в худшем случае перебираем все n элементов\")"
      ]
    },
    {
      "cell_type": "markdown",
      "metadata": {
        "id": "UIWphjDSh8d0"
      },
      "source": [
        "## 3. Бинарный поиск\n",
        "**Задание:**\n",
        "\n",
        "Напишите эффективный алгоритм для упорядоченных массивов. Работает по принципу \"разделяй и властвуй\":\n",
        "\n",
        "Сравнивает искомый элемент с центральным.\n",
        "\n",
        "Если элемент меньше — ищем в левой половине, если больше — в правой.\n",
        "\n",
        "Повторяем процесс, пока не найдем элемент или не останется элементов.\n",
        "\n",
        "\n",
        "**Формат вывода:**\n",
        "\n",
        "\n",
        "Индекс найденного элемента\n",
        "\n",
        "Какая Big O этого алгоритма? Какие требования к массиву данных?"
      ]
    },
    {
      "cell_type": "code",
      "execution_count": 13,
      "metadata": {
        "id": "LseGW0kpiS1s"
      },
      "outputs": [
        {
          "name": "stdout",
          "output_type": "stream",
          "text": [
            "4\n",
            "Временная сложность O(log n), на каждой итерации алгоритм уменьшает область в два раза. Массив должен быть отсортирован по возрастанию\n"
          ]
        }
      ],
      "source": [
        "def bin_search(arr, n):\n",
        "    l = 0\n",
        "    r = len(arr) - 1\n",
        "    while l <= r:\n",
        "        mid = (l + r) // 2\n",
        "        if arr[mid] == n:\n",
        "            return mid\n",
        "        elif arr[mid] > n:\n",
        "            r = mid - 1\n",
        "        else:\n",
        "            l = mid + 1\n",
        "    return 'Не найдено'\n",
        "\n",
        "n = 9\n",
        "arr = [1, 4, 5, 7, 9, 11, 13, 26]\n",
        "print(bin_search(arr, n))\n",
        "print(\"Временная сложность O(log n), на каждой итерации алгоритм уменьшает область в два раза. Массив должен быть отсортирован по возрастанию\")\n"
      ]
    },
    {
      "cell_type": "markdown",
      "metadata": {
        "id": "h5NaRCeji99S"
      },
      "source": [
        "## 4. Интерполяционный поиск\n",
        "**Задание:**\n",
        "\n",
        "Напишите улучшенная версия бинарного поиска. Вы заранее знаете, что данные равномерно распределены. Вместо деления массива пополам вычисляйте приблизительное положение искомого элемента.\n",
        "\n",
        "**Формат вывода:**\n",
        "\n",
        "Индекс найденного элемента\n",
        "\n",
        "Какая Big O этого алгоритма? Какие требования к массиву данных?"
      ]
    },
    {
      "cell_type": "code",
      "execution_count": 1,
      "metadata": {
        "id": "5efo_fzpjMCs"
      },
      "outputs": [
        {
          "name": "stdout",
          "output_type": "stream",
          "text": [
            "3\n"
          ]
        }
      ],
      "source": [
        "'''\n",
        "Механизм интерполяционного поиска:\n",
        "\n",
        "pos = lo + ((target - arr[lo]) * (hi - lo)) / (arr[hi] - arr[lo])\n",
        "\n",
        "arr[]: Array where elements need to be searched\n",
        "target: Element to be searched\n",
        "lo: Starting index in arr[]\n",
        "hi: Ending index in arr[]\n",
        "\n",
        "'''\n",
        "def interpolation_search(arr, n):\n",
        "    l = 0\n",
        "    r = len(arr) - 1\n",
        "\n",
        "    while l <= r and arr[l] <= n <= arr[r]:\n",
        "\n",
        "        mid = l + ((n - arr[l]) * (r - l)) // (arr[r] - arr[l])\n",
        "\n",
        "        if mid < l or mid > r:\n",
        "            break\n",
        "\n",
        "        if arr[mid] == n:\n",
        "            return mid\n",
        "        elif arr[mid] < n:\n",
        "            l = mid + 1\n",
        "        else:\n",
        "            r = mid - 1\n",
        "\n",
        "    return 'Не найдено'\n",
        "\n",
        "n = 4\n",
        "arr = [1, 2, 3, 4, 5]\n",
        "\n",
        "print(interpolation_search(arr, n))\n"
      ]
    },
    {
      "cell_type": "markdown",
      "metadata": {
        "id": "dacySgMpjM5_"
      },
      "source": [
        "## 5. Поиск в строках. Алгоритм Кнута-Морриса-Пратта (KMP)\n",
        "**Задание:**\n",
        "Алгоритм Кнута-Морриса-Пратта (KMP) используется для поиска подстроки (шаблона) в строке. Он предварительно строит префикс-функцию (π-функцию), которая позволяет избегать повторных сравнений.\n",
        "\n",
        "**Шаги реализации:**\n",
        "\n",
        "Реализовать функцию compute_prefix_function(pattern), которая строит массив префикс-функции.\n",
        "Реализовать функцию kmp_search(text, pattern), которая использует префикс-функцию для поиска подстроки.\n",
        "Формат ввода:\n",
        "\n",
        "text — строка, в которой выполняется поиск.\n",
        "pattern — подстрока, которую необходимо найти.\n",
        "\n",
        "**Формат вывода:**\n",
        "\n",
        "Индексы всех вхождений pattern в text.\n"
      ]
    },
    {
      "cell_type": "code",
      "execution_count": 39,
      "metadata": {
        "id": "bwDKd05JjNC1"
      },
      "outputs": [
        {
          "name": "stdout",
          "output_type": "stream",
          "text": [
            "Образ 123 найден\n",
            "Индексы вхождений: [4, 6]\n"
          ]
        }
      ],
      "source": [
        "def compute_prefix_function(pattern):\n",
        "    p = [0] * len(pattern)\n",
        "    j = 0\n",
        "    i = 1\n",
        "    while i < len(pattern):\n",
        "        if pattern[j] == pattern[i]:\n",
        "            p[i] = j+1\n",
        "            i += 1\n",
        "            j +=1\n",
        "        else:\n",
        "            if j == 0:\n",
        "                p[i] = 0\n",
        "                i += 1\n",
        "            else:\n",
        "                j = p[j-1]\n",
        "    return p\n",
        "\n",
        "def kmp_search(text, pattern):\n",
        "    p = compute_prefix_function(pattern)\n",
        "    index = []\n",
        "    j = 0\n",
        "    i = 0\n",
        "    while i < len(text):\n",
        "        if text[i] == pattern[j]:\n",
        "            i += 1\n",
        "            j += 1\n",
        "            if j == len(pattern):\n",
        "                print('Образ', pattern, 'найден')\n",
        "                index.append(i- len(pattern))\n",
        "                index.append(i-1)\n",
        "                return  index\n",
        "        else:\n",
        "            if j > 0:\n",
        "                j = p[j-1]\n",
        "            else:\n",
        "                i += 1\n",
        "    if i == len(text):\n",
        "        return 'Образ не найден'\n",
        "\n",
        "\n",
        "text = \"abad123sggffg\"\n",
        "pattern= \"123\"\n",
        "result = kmp_search(text, pattern)\n",
        "print(\"Индексы вхождений:\", result)\n"
      ]
    }
  ],
  "metadata": {
    "colab": {
      "provenance": []
    },
    "kernelspec": {
      "display_name": "Python 3",
      "name": "python3"
    },
    "language_info": {
      "codemirror_mode": {
        "name": "ipython",
        "version": 3
      },
      "file_extension": ".py",
      "mimetype": "text/x-python",
      "name": "python",
      "nbconvert_exporter": "python",
      "pygments_lexer": "ipython3",
      "version": "3.12.4"
    }
  },
  "nbformat": 4,
  "nbformat_minor": 0
}
