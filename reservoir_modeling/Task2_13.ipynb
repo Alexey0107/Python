{
  "cells": [
    {
      "cell_type": "markdown",
      "metadata": {
        "id": "65rym4wyexZA"
      },
      "source": [
        "#📌 Урок: Контейнеризация приложений\n",
        "# 📖 Теоретический минимум\n",
        "## 🔹 Что такое контейнеры?\n",
        "\n",
        "Контейнеры — это изолированные среды для запуска приложений со всеми зависимостями. В отличие от виртуальных машин, они используют общее ядро ОС, что делает их легковесными и быстрыми.\n",
        "\n",
        "## 🔹 Основные понятия:\n",
        "\n",
        "Основные понятия:\n",
        "\n",
        "Образ (Image) - шаблон для создания контейнеров\n",
        "\n",
        "Контейнер - запущенный экземпляр образа\n",
        "\n",
        "Dockerfile - инструкция для сборки образа\n",
        "\n",
        "Docker Hub - репозиторий готовых образов\n",
        "\n",
        "Оркестрация - управление множеством контейнеров (Kubernetes например)\n",
        "\n",
        "## 🔹 Преимущества контейнеризации:\n",
        "\n",
        "Переносимость между средами\n",
        "\n",
        "Идентичность окружения на всех этапах\n",
        "\n",
        "Быстрое развертывание\n",
        "\n",
        "Эффективное использование ресурсов\n",
        "\n",
        "## 📖 Материалы\n",
        "\n",
        "https://vk.com/video-206723877_456239148\n",
        "\n",
        "https://karpov.courses/docker\n",
        "\n",
        "\n",
        "\n",
        "\n",
        "\n",
        "\n"
      ]
    },
    {
      "cell_type": "markdown",
      "metadata": {
        "id": "vBGTQmKE3Qvu"
      },
      "source": [
        "\n",
        "# 🏆 Задания\n",
        "\n",
        "На основе предыдущего урока давайте начнем вести систему контроля версий для разрабатываемого вами проекта\n",
        "\n",
        "\n",
        "## 1️⃣  Подготовка проекта к контейнеризации\n",
        "\n",
        "\n",
        "\n",
        "\n",
        "\n",
        "\n",
        "**Задача:**\n",
        "Организовать структуру проекта из прошлого урока для Docker\n",
        "\n",
        "```\n",
        "reservoir_modeling/\n",
        "├── Dockerfile\n",
        "├── requirements.txt\n",
        "├── README.md\n",
        "├── src/\n",
        "│   ├── well_analysis/\n",
        "│   ├── inflow_performance/\n",
        "│   └── outflow_performance/\n",
        "└── data/\n",
        "    ├── input/\n",
        "    └── output/\n",
        "```\n",
        "\n",
        "\n",
        "Создайте файл requirements.txt с зависимостями, например:\n",
        "```\n",
        "numpy==1.21.5\n",
        "pandas==1.3.5\n",
        "matplotlib==3.5.0\n",
        "scipy==1.7.3\n",
        "\n",
        "```\n",
        "Перенесите все Python-модули в одну папку, например src"
      ]
    },
    {
      "cell_type": "code",
      "execution_count": null,
      "metadata": {
        "id": "VpPDdWkb5m70"
      },
      "outputs": [],
      "source": []
    },
    {
      "cell_type": "markdown",
      "metadata": {
        "id": "Z-Xjo7zMNlw3"
      },
      "source": [
        "\n",
        "## 2️⃣ Создание базового Dockerfile\n",
        "\n",
        "\n",
        "**Задача:**\n",
        "\n",
        " Написать Dockerfile для вашего Python-приложения\n",
        "\n",
        " Написать Dockerfile для Python-приложения\n",
        "\n",
        " ```\n",
        "dockerfile\n",
        "# Используем официальный образ Python\n",
        "FROM python:3.9-slim-buster\n",
        "\n",
        "# Устанавливаем системные зависимости\n",
        "RUN apt-get update && apt-get install -y \\\n",
        "    gcc \\\n",
        "    python3-dev \\\n",
        "    && rm -rf /var/lib/apt/lists/*\n",
        "\n",
        "# Создаем рабочую директорию\n",
        "WORKDIR /app\n",
        "\n",
        "# Копируем зависимости\n",
        "COPY requirements.txt .\n",
        "\n",
        "# Устанавливаем Python-зависимости\n",
        "RUN pip install --no-cache-dir -r requirements.txt\n",
        "\n",
        "# Копируем исходный код\n",
        "COPY src/ ./src\n",
        "COPY data/input/ ./data/input\n",
        "\n",
        "# Указываем точку входа\n",
        "CMD [\"python\", \"./src/main.py\"]\n",
        " ```\n",
        "\n"
      ]
    },
    {
      "cell_type": "code",
      "execution_count": null,
      "metadata": {
        "id": "osMUJBMG56gD"
      },
      "outputs": [],
      "source": []
    },
    {
      "cell_type": "markdown",
      "metadata": {
        "id": "aaGawtbzhqKl"
      },
      "source": [
        "## 3️⃣  Сборка и тестирование образа\n",
        "\n",
        "\n",
        "**Задача:**\n",
        "\n",
        "Собрать образ и проверить его работу\n",
        "\n",
        "Выполните сборку:\n",
        "\n",
        " ```\n",
        "bash\n",
        "docker build -t reservoir-model:1.0 .\n",
        "Проверьте список образов:\n",
        "bash\n",
        "docker images\n",
        " ```\n",
        "Запустите контейнер в интерактивном режиме:\n",
        " ```\n",
        "bash\n",
        "docker run -it --rm reservoir-model:1.0\n",
        " ```\n",
        "\n",
        "---\n",
        "\n"
      ]
    },
    {
      "cell_type": "code",
      "execution_count": null,
      "metadata": {
        "id": "B6kZr5Ke6TTm"
      },
      "outputs": [],
      "source": []
    },
    {
      "cell_type": "markdown",
      "metadata": {
        "id": "UIWphjDSh8d0"
      },
      "source": [
        "\n",
        "## 4️⃣   Настройка томов для данных\n",
        "\n",
        "\n",
        "\n",
        "\n",
        "\n",
        "**Задача:**  \n",
        "\n",
        "\n",
        "Создайте папки для данных на хосте:\n",
        "\n",
        "\n",
        "```\n",
        "bash\n",
        "mkdir -p ~/reservoir_data/input\n",
        "mkdir -p ~/reservoir_data/output\n",
        "```\n",
        "Запустите контейнер с подключенными томами:\n",
        "```\n",
        "bash\n",
        "docker run -it --rm \\\n",
        "  -v ~/reservoir_data/input:/app/data/input \\\n",
        "  -v ~/reservoir_data/output:/app/data/output \\\n",
        "  reservoir-model:1.0\n",
        "```\n",
        "\n",
        "---\n",
        "\n",
        "\n"
      ]
    },
    {
      "cell_type": "code",
      "execution_count": null,
      "metadata": {
        "id": "_XGzkK496v2V"
      },
      "outputs": [],
      "source": []
    },
    {
      "cell_type": "markdown",
      "metadata": {
        "id": "h5NaRCeji99S"
      },
      "source": [
        "\n",
        "## 5️⃣ Использование контейнера\n",
        "\n",
        "\n",
        "**Задача:**\n",
        "\n",
        "одифицируйте main.py для поддержки аргументов командной строки:\n",
        "\n",
        "\n",
        "\n",
        "```\n",
        "python\n",
        "# main.py\n",
        "import argparse\n",
        "\n",
        "parser = argparse.ArgumentParser()\n",
        "parser.add_argument('--well', type=str, required=True)\n",
        "parser.add_argument('--pressure', type=float, default=250.0)\n",
        "args = parser.parse_args()\n",
        "\n",
        "print(f\"Running simulation for well {args.well} at {args.pressure} atm\")\n",
        "\n",
        "\n",
        "```\n",
        "Запуск с параметрами:\n",
        "\n",
        "```\n",
        "bash\n",
        "docker run --rm \\\n",
        "  -v $(pwd)/data:/app/data \\\n",
        "  ваш-образ:тег \\\n",
        "  python main.py --well \"A-12\" --pressure 275.5\n",
        "```\n",
        "\n",
        "---\n"
      ]
    },
    {
      "cell_type": "code",
      "execution_count": null,
      "metadata": {
        "id": "yxxiDun3LES8"
      },
      "outputs": [],
      "source": []
    }
  ],
  "metadata": {
    "colab": {
      "provenance": []
    },
    "kernelspec": {
      "display_name": "Python 3",
      "name": "python3"
    },
    "language_info": {
      "name": "python"
    }
  },
  "nbformat": 4,
  "nbformat_minor": 0
}
