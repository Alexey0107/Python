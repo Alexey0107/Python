{
  "cells": [
    {
      "cell_type": "markdown",
      "metadata": {
        "id": "65rym4wyexZA"
      },
      "source": [
        "# 📌 Урок: Алгоритмы сортировки\n",
        "\n",
        "## 📖 Теоретический минимум\n",
        "\n",
        "### 🔹 Что такое алгоритмы сортировки?\n",
        "Алгоритмы сортировки — это методы упорядочивания элементов массива (или списка) в определённом порядке, например, по возрастанию или убыванию.\n",
        "\n",
        "### 🔹 Основные виды сортировок\n",
        "#### 1. Простые сортировки\n",
        "- **Сортировка пузырьком** (Bubble Sort) — O(n²)  \n",
        "  Последовательно сравнивает пары элементов и меняет их местами, если они стоят не в том порядке.\n",
        "- **Сортировка вставками** (Insertion Sort) — O(n²)  \n",
        "  Каждый новый элемент вставляется в уже отсортированную часть массива.\n",
        "- **Сортировка выбором** (Selection Sort) — O(n²)  \n",
        "  Находит минимум и ставит его на правильное место.\n",
        "\n",
        "#### 2. Эффективные сортировки\n",
        "- **Быстрая сортировка** (Quick Sort) — O(n log n) в среднем  \n",
        "  Разделяет массив на два подмассива относительно опорного элемента и рекурсивно сортирует их.\n",
        "- **Сортировка слиянием** (Merge Sort) — O(n log n)  \n",
        "  Делит массив пополам, сортирует обе части и сливает обратно.\n",
        "- **Сортировка кучей** (Heap Sort) — O(n log n)  \n",
        "  Использует структуру данных \"куча\" для эффективной сортировки.\n",
        "\n",
        "#### 3. Специальные сортировки\n",
        "- **Поразрядная сортировка** (Radix Sort) — O(nk)  \n",
        "  Применяется для чисел, сортирует поразрядно.\n",
        "- **Сортировка подсчётом** (Counting Sort) — O(n + k)  \n",
        "  Эффективна, если диапазон значений ограничен.\n",
        "\n",
        "## 📖 Материалы\n",
        "https://vk.com/video-60205820_456239070\n",
        "\n",
        "https://vk.com/video313356016_456239176\n",
        "\n",
        "https://vk.com/video-145052891_456246016\n",
        "\n",
        "https://education.yandex.ru/journal/osnovnye-vidy-sortirovok-i-primery-ikh-realizatsii\n",
        "\n",
        "---\n"
      ]
    },
    {
      "cell_type": "markdown",
      "metadata": {
        "id": "vBGTQmKE3Qvu"
      },
      "source": [
        "# 🏆 Задания\n",
        "\n",
        "## 1️⃣ Вспомните как стандартой python фуннкцией отсортировать массив\n",
        "\n",
        "**Пример входных данных:**\n",
        "```python\n",
        "arr = [5, 3, 8, 4, 2]\n",
        "```\n",
        "\n",
        "**Ожидаемый результат:**\n",
        "```\n",
        "[2, 3, 4, 5, 8]\n",
        "```\n",
        "\n",
        "---\n",
        "```"
      ]
    },
    {
      "cell_type": "code",
      "execution_count": 7,
      "metadata": {},
      "outputs": [
        {
          "name": "stdout",
          "output_type": "stream",
          "text": [
            "[2, 3, 4, 5, 8]\n"
          ]
        }
      ],
      "source": [
        "arr = [5, 3, 8, 4, 2]\n",
        "print(sorted(arr))"
      ]
    },
    {
      "cell_type": "markdown",
      "metadata": {
        "id": "Z-Xjo7zMNlw3"
      },
      "source": [
        "\n",
        "\n",
        "## 2️⃣ Реализация пузырьковой сортировки\n",
        "Реализуйте **сортировку пузырьком** и отсортируйте массив.\n",
        "\n",
        "**Пример входных данных:**\n",
        "```python\n",
        "arr = [5, 3, 8, 4, 2]\n",
        "```\n",
        "\n",
        "**Ожидаемый результат:**\n",
        "```\n",
        "[2, 3, 4, 5, 8]\n",
        "```\n",
        "\n",
        "---\n",
        "```\n"
      ]
    },
    {
      "cell_type": "code",
      "execution_count": 16,
      "metadata": {
        "id": "SN9ylQTQNmBg"
      },
      "outputs": [
        {
          "name": "stdout",
          "output_type": "stream",
          "text": [
            "Исходный массив: [5, 3, 8, 4, 2]\n",
            "Итерация 1 : [3, 5, 4, 2, 8]\n",
            "Итерация 2 : [3, 4, 2, 5, 8]\n",
            "Итерация 3 : [3, 2, 4, 5, 8]\n",
            "Итерация 4 : [2, 3, 4, 5, 8]\n",
            "Итерация 5 : [2, 3, 4, 5, 8]\n",
            "Отсортированный массив: [2, 3, 4, 5, 8]\n"
          ]
        }
      ],
      "source": [
        "arr = [5, 3, 8, 4, 2]\n",
        "print('Исходный массив:', arr)\n",
        "for i in range(len(arr)):\n",
        "    for j in range(len(arr)-i-1):\n",
        "        if arr[j] > arr[j+1]:\n",
        "            arr[j], arr[j+1]  = arr[j+1], arr[j]\n",
        "    print('Итерация',i+1, ':', arr)\n",
        "print('Отсортированный массив:', arr)\n"
      ]
    },
    {
      "cell_type": "markdown",
      "metadata": {
        "id": "aaGawtbzhqKl"
      },
      "source": [
        "## 3️⃣ Оптимизация пузырьковой сортировки\n",
        "Оптимизируйте пузырьковую сортировку, чтобы она завершалась раньше, если массив уже отсортирован.\n",
        "\n",
        "**Пример входных данных:**\n",
        "```python\n",
        "arr = [1, 2, 3, 4, 5]\n",
        "```\n",
        "\n",
        "**Ожидаемый результат:**\n",
        "```\n",
        "[1, 2, 3, 4, 5] (должно завершиться за O(n))\n",
        "```\n",
        "\n",
        "---\n",
        "\n"
      ]
    },
    {
      "cell_type": "code",
      "execution_count": 21,
      "metadata": {
        "id": "ByFl_a5OhoCR"
      },
      "outputs": [
        {
          "name": "stdout",
          "output_type": "stream",
          "text": [
            "Исходный массив: [5, 3, 8, 4, 2]\n",
            "Итерация 1 : [3, 5, 4, 2, 8]\n",
            "Итерация 2 : [3, 4, 2, 5, 8]\n",
            "Итерация 3 : [3, 2, 4, 5, 8]\n",
            "Итерация 4 : [2, 3, 4, 5, 8]\n",
            "Отсортированный массив: [2, 3, 4, 5, 8]\n"
          ]
        }
      ],
      "source": [
        "arr = [5, 3, 8, 4, 2]\n",
        "print('Исходный массив:', arr)\n",
        "for i in range(len(arr)):\n",
        "    flag = False\n",
        "    for j in range(len(arr)-i-1):\n",
        "        if arr[j] > arr[j+1]:\n",
        "            arr[j], arr[j+1]  = arr[j+1], arr[j]\n",
        "            flag = True\n",
        "    if flag == False:\n",
        "        break\n",
        "    print('Итерация',i+1, ':', arr)\n",
        "print('Отсортированный массив:', arr)\n"
      ]
    },
    {
      "cell_type": "markdown",
      "metadata": {
        "id": "UIWphjDSh8d0"
      },
      "source": [
        "## 4️⃣ Сортировка слиянием\n",
        "Реализуйте **сортировку слиянием** (Merge Sort).\n",
        "\n",
        "**Пример входных данных:**\n",
        "```python\n",
        "arr = [9, 1, 5, 3, 7]\n",
        "```\n",
        "\n",
        "**Ожидаемый результат:**\n",
        "```\n",
        "[1, 3, 5, 7, 9]\n",
        "```\n",
        "\n",
        "---\n",
        "\n"
      ]
    },
    {
      "cell_type": "code",
      "execution_count": 27,
      "metadata": {
        "id": "LseGW0kpiS1s"
      },
      "outputs": [
        {
          "name": "stdout",
          "output_type": "stream",
          "text": [
            "[1, 3, 5, 7, 9]\n"
          ]
        }
      ],
      "source": [
        "def merge(list1, list2):\n",
        "    merge_list = []\n",
        "    l1 = len(list1)\n",
        "    l2 = len(list2)\n",
        "    i = 0\n",
        "    j = 0\n",
        "    while i < l1 and j < l2:\n",
        "        if list1[i] <= list2[j]:\n",
        "            merge_list.append(list1[i])\n",
        "            i += 1\n",
        "        else:\n",
        "            merge_list.append(list2[j])\n",
        "            j += 1\n",
        "    merge_list += list1[i:] + list2[j:]\n",
        "    return merge_list\n",
        "\n",
        "def merge_sort(input_list):\n",
        "    l = len(input_list) // 2\n",
        "    left = input_list[:l]\n",
        "    right = input_list[l:]\n",
        "    if len(left) > 1:\n",
        "        left = merge_sort(left)\n",
        "    if len(right) > 1:\n",
        "        right = merge_sort(right)\n",
        "    return merge(left, right)\n",
        "\n",
        "arr = [9, 1, 5, 3, 7]\n",
        "print(merge_sort(arr))"
      ]
    },
    {
      "cell_type": "markdown",
      "metadata": {
        "id": "h5NaRCeji99S"
      },
      "source": [
        "## 5️⃣ Быстрая сортировка\n",
        "Реализуйте **быструю сортировку** (Quick Sort).\n",
        "\n",
        "**Пример входных данных:**\n",
        "```python\n",
        "arr = [10, -2, 3, 8, 5]\n",
        "```\n",
        "\n",
        "**Ожидаемый результат:**\n",
        "```\n",
        "[-2, 3, 5, 8, 10]\n",
        "```\n",
        "\n",
        "---\n"
      ]
    },
    {
      "cell_type": "code",
      "execution_count": 22,
      "metadata": {
        "id": "5efo_fzpjMCs"
      },
      "outputs": [
        {
          "name": "stdout",
          "output_type": "stream",
          "text": [
            "[-2, 3, 5, 8, 10]\n"
          ]
        }
      ],
      "source": [
        "arr = [10, -2, 3, 8, 5]\n",
        "\n",
        "def quick_sort(arr):\n",
        "    if len(arr) <= 1:\n",
        "        return arr\n",
        "    else:\n",
        "        x = arr[0]\n",
        "        left = [i for i in arr[1:] if i < x]\n",
        "        right = [i for i in arr[1:] if i >= x]\n",
        "    return quick_sort(left) + [x] + quick_sort(right)\n",
        "\n",
        "print(quick_sort(arr))"
      ]
    }
  ],
  "metadata": {
    "colab": {
      "provenance": []
    },
    "kernelspec": {
      "display_name": "Python 3",
      "name": "python3"
    },
    "language_info": {
      "codemirror_mode": {
        "name": "ipython",
        "version": 3
      },
      "file_extension": ".py",
      "mimetype": "text/x-python",
      "name": "python",
      "nbconvert_exporter": "python",
      "pygments_lexer": "ipython3",
      "version": "3.12.4"
    }
  },
  "nbformat": 4,
  "nbformat_minor": 0
}
