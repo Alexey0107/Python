{
  "cells": [
    {
      "cell_type": "markdown",
      "metadata": {
        "id": "65rym4wyexZA"
      },
      "source": [
        "#📌 Урок: Продвинутые структуры данных в Python\n",
        "##📖 Теоретический минимум\n",
        "###🔹 Графы (Graphs)\n",
        "Описание: Графы состоят из вершин (узлов) и ребер (связей между узлами). Они могут быть направленными или ненаправленными.\n",
        "\n",
        "Основные операции:\n",
        "\n",
        "Добавление вершины.\n",
        "\n",
        "Добавление ребра.\n",
        "\n",
        "Поиск пути между вершинами.\n",
        "\n",
        "Пример использования: Социальные сети, маршрутизация.\n",
        "\n",
        "###🔹 Деревья (Trees)\n",
        "Описание: Деревья — это иерархические структуры данных, где каждый узел имеет родителя и потомков. У дерева есть корень и листья.\n",
        "\n",
        "Основные операции:\n",
        "\n",
        "Вставка узла.\n",
        "\n",
        "Удаление узла.\n",
        "\n",
        "Поиск узла.\n",
        "\n",
        "Пример использования: Файловые системы, бинарные деревья поиска.\n",
        "\n",
        "###🔹 Очереди (Queues) и Стеки (Stacks)\n",
        "Очереди:\n",
        "\n",
        "Описание: Работают по принципу FIFO (First In, First Out).\n",
        "\n",
        "Основные операции: enqueue (добавление), dequeue (удаление).\n",
        "\n",
        "Стеки:\n",
        "\n",
        "Описание: Работают по принципу LIFO (Last In, First Out).\n",
        "\n",
        "Основные операции: push (добавление), pop (удаление).\n",
        "\n",
        "Пример использования: Очереди — обработка задач, стеки — отмена действий.\n",
        "\n",
        "###🔹 Хэш-таблицы (Hash Tables)\n",
        "Описание: Хэш-таблицы хранят пары \"ключ-значение\". Используют хэш-функции для быстрого доступа к данным.\n",
        "\n",
        "Основные операции:\n",
        "\n",
        "Вставка элемента.\n",
        "\n",
        "Удаление элемента.\n",
        "\n",
        "Поиск элемента.\n",
        "\n",
        "Пример использования: Словари, кэширование.\n",
        "\n",
        "###🔹 Связные списки (Linked Lists)\n",
        "Описание: Связные списки — это линейные структуры данных, где каждый элемент (узел) содержит данные и ссылку на следующий элемент.\n",
        "\n",
        "Основные операции:\n",
        "\n",
        "Вставка элемента.\n",
        "\n",
        "Удаление элемента.\n",
        "\n",
        "Поиск элемента.\n",
        "\n",
        "Пример использования: Динамическое управление памятью.\n",
        "\n",
        "#📖 Материалы\n",
        "\n",
        "https://vk.com/video-16108331_456253002\n",
        "\n",
        "https://vk.com/video-139172865_456239127\n",
        "\n",
        "https://vk.com/video-224117885_456239068\n",
        "\n",
        "https://vk.com/video-227978201_456239119\n",
        "\n",
        "https://vk.com/video21156921_456244153\n",
        "\n",
        "Грокаем алгоритмы. Иллюстрированное пособие для программистов и любопытствующих от Бхаргава А.\n",
        "\n",
        "Грокаем алгоритмы. 2-е изд. от Бхаргава А.\n",
        "\n",
        "\n",
        "\n",
        "\n",
        "\n",
        "\n"
      ]
    },
    {
      "cell_type": "markdown",
      "metadata": {
        "id": "vBGTQmKE3Qvu"
      },
      "source": [
        "\n",
        "# 🏆 Задания\n",
        "\n",
        "## 1️⃣ Задача на графы: Реализация графа и поиск в глубину (DFS)\n",
        "***Входные данные:***\n",
        "\n",
        "Граф в виде словаря смежности:\n",
        "\n",
        "```\n",
        "graph = {\n",
        "    'A': ['B', 'C'],\n",
        "    'B': ['A', 'D'],\n",
        "    'C': ['A', 'D'],\n",
        "    'D': ['B', 'C']\n",
        "}\n",
        "```\n",
        "Начальная вершина: 'A'.\n",
        "\n",
        "***Ожидаемый результат:***\n",
        "\n",
        "Порядок обхода вершин с использованием DFS: ['A', 'B', 'D', 'C'].\n"
      ]
    },
    {
      "cell_type": "code",
      "execution_count": 1,
      "metadata": {
        "id": "iIseX_mCQFZK"
      },
      "outputs": [
        {
          "name": "stdout",
          "output_type": "stream",
          "text": [
            "['A', 'B', 'D', 'C']\n"
          ]
        }
      ],
      "source": [
        "def dfs(graph, start):\n",
        "    visited = set()\n",
        "    stack = [start]\n",
        "    result = []\n",
        "\n",
        "    while stack:\n",
        "        node = stack.pop()\n",
        "        # print('node',node)\n",
        "        if node not in visited:\n",
        "            result.append(node)\n",
        "            visited.add(node)\n",
        "            for neighbor in reversed(graph[node]):\n",
        "                stack.append(neighbor)\n",
        "                # print('стек',stack)\n",
        "    return result\n",
        "\n",
        "\n",
        "graph = {\n",
        "    'A': ['B', 'C'],\n",
        "    'B': ['A', 'D'],\n",
        "    'C': ['A', 'D'],\n",
        "    'D': ['B', 'C']\n",
        "}\n",
        "\n",
        "print(dfs(graph, 'A'))"
      ]
    },
    {
      "cell_type": "markdown",
      "metadata": {
        "id": "Z-Xjo7zMNlw3"
      },
      "source": [
        "\n",
        "## 2️⃣ Задача на деревья: Реализация бинарного дерева поиска (BST)\n",
        "**Входные данные:**\n",
        "\n",
        "Элементы для вставки: [10, 5, 15, 3, 7, 12, 18].\n",
        "\n",
        "```\n",
        "        10\n",
        "       /  \\\n",
        "      5    15\n",
        "     / \\   / \\\n",
        "    3   7 12 18\n",
        "```\n",
        "Пояснение:\n",
        "Корень дерева: 10 (первый элемент).\n",
        "\n",
        "Левое поддерево:\n",
        "\n",
        "5 меньше 10, поэтому становится левым потомком.\n",
        "\n",
        "3 меньше 5, поэтому становится левым потомком 5.\n",
        "\n",
        "7 больше 5, поэтому становится правым потомком 5.\n",
        "\n",
        "Правое поддерево:\n",
        "\n",
        "15 больше 10, поэтому становится правым потомком.\n",
        "\n",
        "12 меньше 15, поэтому становится левым потомком 15.\n",
        "\n",
        "18 больше 15, поэтому становится правым потомком 15.\n",
        "\n",
        "**Ожидаемый результат:**\n",
        "\n",
        "Инфиксный обход дерева:\n",
        "Инфиксный обход (Inorder Traversal) — это способ обхода дерева, при котором:\n",
        "\n",
        "* Сначала посещается левое поддерево.\n",
        "\n",
        "* Затем посещается корень.\n",
        "\n",
        "* В конце посещается правое поддерево.\n",
        "\n",
        "Для бинарного дерева поиска (BST) инфиксный обход возвращает элементы в отсортированном порядке. [3, 5, 7, 10, 12, 15, 18].\n",
        "---\n",
        "\n"
      ]
    },
    {
      "cell_type": "code",
      "execution_count": 13,
      "metadata": {},
      "outputs": [
        {
          "name": "stdout",
          "output_type": "stream",
          "text": [
            "Элементы для вставки: [10, 5, 15, 3, 7, 12, 18], где 10 - корень дерева\n",
            "Элемееты дерева в отсортированном порядке:\n",
            "3 5 7 10 12 15 18 "
          ]
        }
      ],
      "source": [
        "class BST:\n",
        "    def __init__(self, key):\n",
        "        self.left = None\n",
        "        self.right = None\n",
        "        self.val = key\n",
        "\n",
        "def insert(root, key):\n",
        "    if root is None:\n",
        "        return BST(key)\n",
        "    if root.val == key:\n",
        "            return root\n",
        "    if root.val < key:\n",
        "            root.right = insert(root.right, key)\n",
        "    else:\n",
        "            root.left = insert(root.left, key)\n",
        "    return root\n",
        "\n",
        "\n",
        "\n",
        "def order(root):\n",
        "    if root:\n",
        "        order(root.left)\n",
        "        print(root.val, end=\" \")\n",
        "        order(root.right)\n",
        "\n",
        "\n",
        "\n",
        "elements = [10, 5, 15, 3, 7, 12, 18]\n",
        "r = BST(elements[0])\n",
        "for el in elements[1:]:\n",
        "     r = insert(r, el)\n",
        "\n",
        "print(f'Элементы для вставки: {elements}, где {elements[0]} - корень дерева')\n",
        "print('Элемееты дерева в отсортированном порядке:')\n",
        "order(r)\n"
      ]
    },
    {
      "cell_type": "markdown",
      "metadata": {
        "id": "aaGawtbzhqKl"
      },
      "source": [
        "## 3️⃣ Задача на очередь и стэк\n",
        "\n",
        "Рализуйте классы queue и stack возвращаяющие и удаляющие из хранения элементы по принципу FIFO и FILO\n",
        "\n",
        "**Входные данные:**\n",
        "\n",
        "Элементы для добавления: [1, 2, 3, 4].\n",
        "\n",
        "**Ожидаемый результат:**\n",
        "\n",
        "Порядок возвращения элементов очереди: [1, 2, 3, 4].\n",
        "\n",
        "Порядок возвращения элементов стэка: [4, 3, 2, 1].\n",
        "\n",
        "---\n",
        "\n"
      ]
    },
    {
      "cell_type": "code",
      "execution_count": 9,
      "metadata": {
        "id": "ByFl_a5OhoCR"
      },
      "outputs": [
        {
          "name": "stdout",
          "output_type": "stream",
          "text": [
            "Порядок возвращения элементов стека: [4, 3, 2, 1]\n"
          ]
        }
      ],
      "source": [
        "class Stack:\n",
        "    def __init__(self):\n",
        "        self.stack = []\n",
        "    def push(self, item):\n",
        "        self.stack.append(item)\n",
        "    def is_empty(self):\n",
        "        return len(self.stack) == 0\n",
        "    def pop(self):\n",
        "        if len(self.stack) == 0:\n",
        "            return None\n",
        "        removed = self.stack.pop()\n",
        "        return removed\n",
        "\n",
        "lst = [1, 2, 3, 4]\n",
        "s = Stack()\n",
        "for i in range(len(lst)):\n",
        "    s.push(lst[i])\n",
        "\n",
        "stack_result = []\n",
        "while not s.is_empty():\n",
        "    stack_result.append(s.pop())\n",
        "print(\"Порядок возвращения элементов стека:\", stack_result)"
      ]
    },
    {
      "cell_type": "code",
      "execution_count": 11,
      "metadata": {},
      "outputs": [
        {
          "name": "stdout",
          "output_type": "stream",
          "text": [
            "Порядок возвращения элементов очереди: [1, 2, 3, 4]\n"
          ]
        }
      ],
      "source": [
        "class Queue:\n",
        "    def __init__(self):\n",
        "        self.queue = []\n",
        "    def push(self, item):\n",
        "        self.queue.append(item)\n",
        "    def is_empty(self):\n",
        "        return len(self.queue) == 0\n",
        "    def pop(self):\n",
        "        if len(self.queue) == 0:\n",
        "            return None\n",
        "        removed = self.queue.pop(0)\n",
        "        return removed\n",
        "\n",
        "lst = [1, 2, 3, 4]\n",
        "q = Queue()\n",
        "for i in range(len(lst)):\n",
        "    q.push(lst[i])\n",
        "\n",
        "queue_result = []\n",
        "while not q.is_empty():\n",
        "    queue_result.append(q.pop())\n",
        "\n",
        "print(\"Порядок возвращения элементов очереди:\", queue_result)"
      ]
    },
    {
      "cell_type": "markdown",
      "metadata": {
        "id": "UIWphjDSh8d0"
      },
      "source": [
        "\n",
        "## 4️⃣ Задача на хэш-таблицы: Реализация хэш-таблицы\n",
        "\n",
        "Реализуйте собственную хэш-таблицу с операциями\n",
        "\n",
        "* Вставка: Добавление пары \"ключ-значение\".\n",
        "\n",
        "* Поиск: Получение значения по ключу.\n",
        "\n",
        "* Удаление: Удаление пары по ключу.\n",
        "\n",
        "Проработайте случай коллизии, когда два ключа имеют одинаковый хэш\n",
        "\n",
        "**Входные данные:**\n",
        "\n",
        "Пары \"ключ-значение\" для вставки: \"name\": \"Alice\", \"age\": 25.\n",
        "\n",
        "**Ожидаемый результат:**\n",
        "\n",
        "Получение значения по ключу age: 25.\n",
        "\n",
        "---\n",
        "\n",
        "\n"
      ]
    },
    {
      "cell_type": "code",
      "execution_count": 20,
      "metadata": {
        "id": "LseGW0kpiS1s"
      },
      "outputs": [
        {
          "name": "stdout",
          "output_type": "stream",
          "text": [
            "25\n"
          ]
        }
      ],
      "source": [
        "class HashTable:\n",
        "    def __init__(self, size=5):\n",
        "        self.size = size\n",
        "        self.map =  [None]*self.size\n",
        "\n",
        "    def _get_hash(self, key):\n",
        "        return hash(key) % self.size\n",
        "\n",
        "    def add(self, key, value):\n",
        "        key_hash = self._get_hash(key)\n",
        "        if self.map[key_hash] is None:\n",
        "            self.map[key_hash] = (key_hash, key, value)\n",
        "        else:\n",
        "            new_hash = self._probe(key_hash)\n",
        "            if new_hash is not None:\n",
        "                self.map[new_hash] = (key_hash, key, value)\n",
        "            else:\n",
        "                self._resize()\n",
        "                self.add(key, value)\n",
        "\n",
        "    def _probe(self, start_index):\n",
        "        for i in range(start_index+1, self.size + start_index):\n",
        "            index = i % self.size\n",
        "            if self.map[index] is None:\n",
        "                return index\n",
        "\n",
        "    def _resize(self):\n",
        "        old_map = self.map\n",
        "        self.size *= 2\n",
        "        self.map = [None]*self.size\n",
        "        for item in old_map:\n",
        "            if item is not None:\n",
        "                _, key, value = item\n",
        "                self.add(key, value)\n",
        "\n",
        "    def get(self, key):\n",
        "        key_hash = self._get_hash(key)\n",
        "        if self.map[key_hash] is not None and self.map[key_hash][1] == key:\n",
        "            return self.map[key_hash][2]\n",
        "        else:\n",
        "            for i in range(key_hash + 1, self.size + key_hash):\n",
        "                index = i % self.size\n",
        "                if self.map[index] is not None and self.map[index][1] == key:\n",
        "                    return self.map[index][2]\n",
        "            return None\n",
        "\n",
        "    def delete(self, key):\n",
        "        key_hash = self._get_hash(key)\n",
        "        if self.map[key_hash] is not None and self.map[key_hash][1] == key:\n",
        "            self.map[key_hash] = None\n",
        "            return True\n",
        "        else:\n",
        "            for i in range(key_hash + 1, self.size + key_hash):\n",
        "                index = i % self.size\n",
        "                if self.map[index] is not None and self.map[index][1] == key:\n",
        "                    self.map[index] = None\n",
        "                    return True\n",
        "        return False\n",
        "\n",
        "ht = HashTable()\n",
        "ht.add(\"name\", \"Alice\")\n",
        "ht.add(\"age\", 25)\n",
        "\n",
        "print(ht.get(\"age\"))"
      ]
    },
    {
      "cell_type": "markdown",
      "metadata": {
        "id": "h5NaRCeji99S"
      },
      "source": [
        "\n",
        "## 5️⃣ Задача на связные списки: Реализация односвязного списка\n",
        "**Входные данные:**\n",
        "\n",
        "Элементы для добавления: [1, 2, 3, 4].\n",
        "\n",
        "**Ожидаемый результат:**\n",
        "\n",
        "Вывод элементов односвязного списка: 1 -> 2 -> 3 -> 4.\n",
        "---\n"
      ]
    },
    {
      "cell_type": "code",
      "execution_count": 2,
      "metadata": {
        "id": "5efo_fzpjMCs"
      },
      "outputs": [
        {
          "name": "stdout",
          "output_type": "stream",
          "text": [
            "1-> 2-> 3-> 4-> 5-> 6-> 7-> 8-> 9-> 10-> None\n"
          ]
        }
      ],
      "source": [
        "class Node:\n",
        "    def __init__(self, data=None):\n",
        "        self.data = data\n",
        "        self.next = None\n",
        "\n",
        "\n",
        "def insert_at_beginning(head, data):\n",
        "    new_node = Node(data)\n",
        "    new_node.next = head\n",
        "    return new_node\n",
        "\n",
        "def traverse(head):\n",
        "    current = head\n",
        "    while current:\n",
        "        print(str(current.data) + \"->\", end=\" \")\n",
        "        current = current.next\n",
        "    print(\"None\")\n",
        "\n",
        "head = None\n",
        "for i in range(10,0,-1):\n",
        "    head = insert_at_beginning(head, i)\n",
        "\n",
        "traverse(head)"
      ]
    }
  ],
  "metadata": {
    "colab": {
      "provenance": []
    },
    "kernelspec": {
      "display_name": "Python 3",
      "name": "python3"
    },
    "language_info": {
      "codemirror_mode": {
        "name": "ipython",
        "version": 3
      },
      "file_extension": ".py",
      "mimetype": "text/x-python",
      "name": "python",
      "nbconvert_exporter": "python",
      "pygments_lexer": "ipython3",
      "version": "3.12.4"
    }
  },
  "nbformat": 4,
  "nbformat_minor": 0
}
